{
 "cells": [
  {
   "cell_type": "code",
   "execution_count": null,
   "id": "271fe720-50b0-47e7-b68f-407aa14538e2",
   "metadata": {},
   "outputs": [],
   "source": [
    "# Q1 \n",
    "Var1 = 'Name'\n",
    "Var2 = [10,'Name',1.2,true]\n",
    "Var3 = 21.2\n",
    "Var4 = {10,'Name',1.2,false}"
   ]
  },
  {
   "cell_type": "markdown",
   "id": "124f76c4-141e-4b58-bcff-9974f74ebf9f",
   "metadata": {},
   "source": [
    "# Q2\n",
    "i  - String\n",
    "ii - String\n",
    "iii- List\n",
    "iv - Float\n"
   ]
  },
  {
   "cell_type": "code",
   "execution_count": null,
   "id": "e1e13ae5-a448-4c06-acda-bbcfb35995a5",
   "metadata": {},
   "outputs": [],
   "source": [
    "# Q3\n",
    "A = 50\n",
    "B = 10\n",
    "# (/) is used for divide a number \n",
    "print A/B\n",
    "# (%) is used to print only reminder values \n",
    "print A%B\n",
    "# (//) is used to print only floor value . it give value in intergers datatypes\n",
    "print A//B\n",
    "# (**) is used to multiply the number in powers\n",
    "print A**B"
   ]
  },
  {
   "cell_type": "code",
   "execution_count": null,
   "id": "af68001a-49d9-485e-9202-ed5392b554fa",
   "metadata": {},
   "outputs": [],
   "source": [
    "# Q4\n",
    "List1 =[ 1,21,52,2.6,true,\"name\",\"Date\",2+8j,58,963]\n",
    "for i in List1:\n",
    "    print (i , type(i))\n",
    "    "
   ]
  },
  {
   "cell_type": "code",
   "execution_count": null,
   "id": "d80474ae-d95f-49ab-9215-c7c98c7ccd86",
   "metadata": {},
   "outputs": [],
   "source": [
    "# Q5\n",
    "A = 100\n",
    "B = 10\n",
    "while A%B==0:\n",
    "    print A%B\n",
    "    \n",
    "    "
   ]
  },
  {
   "cell_type": "code",
   "execution_count": null,
   "id": "6cea3d05-98e0-4de8-9855-fc16a3150ff9",
   "metadata": {},
   "outputs": [],
   "source": [
    "# Q6\n",
    "List1 = [12,21,45,25,20,12,78,52,78,87,123,78,544,78,96,52,33,66,65,45,15,45,45,8,96]\n",
    "for i in List1:\n",
    "    if i%3==0:\n",
    "        print (i ,\"is divisle by 3\")\n",
    "    else:\n",
    "        print (i ,\"is  not divisle by 3\")"
   ]
  },
  {
   "cell_type": "code",
   "execution_count": null,
   "id": "8d0048fb-9670-4b39-9bbd-991af5592116",
   "metadata": {},
   "outputs": [],
   "source": [
    "# Q7\n",
    "# An object that allows you to change its values without changing its identity is a mutable object . for example list,sets\n",
    "list1 =[12,25,32]\n",
    "list1[0] = 20\n",
    "print (list1)\n",
    "\n",
    "# An object that does not allows you to change its values without changing its identity is a immutable object for example strng, tuple.\n",
    "list1 ={12,25,32}\n",
    "list1[0] = 20\n",
    "print (list1)\n",
    "# it shows error\n"
   ]
  }
 ],
 "metadata": {
  "kernelspec": {
   "display_name": "Python 3 (ipykernel)",
   "language": "python",
   "name": "python3"
  },
  "language_info": {
   "codemirror_mode": {
    "name": "ipython",
    "version": 3
   },
   "file_extension": ".py",
   "mimetype": "text/x-python",
   "name": "python",
   "nbconvert_exporter": "python",
   "pygments_lexer": "ipython3",
   "version": "3.10.8"
  }
 },
 "nbformat": 4,
 "nbformat_minor": 5
}
